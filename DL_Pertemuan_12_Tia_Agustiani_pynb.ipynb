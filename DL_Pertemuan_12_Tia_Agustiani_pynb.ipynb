{
  "nbformat": 4,
  "nbformat_minor": 0,
  "metadata": {
    "colab": {
      "provenance": []
    },
    "kernelspec": {
      "name": "python3",
      "display_name": "Python 3"
    },
    "language_info": {
      "name": "python"
    }
  },
  "cells": [
    {
      "cell_type": "markdown",
      "source": [
        "##**Pre-Trained Model**"
      ],
      "metadata": {
        "id": "hQKZUwPrUXKz"
      }
    },
    {
      "cell_type": "markdown",
      "source": [
        "** => Menggunakan model yang sudah dilatih**"
      ],
      "metadata": {
        "id": "iry-4I_VUb5P"
      }
    },
    {
      "cell_type": "code",
      "execution_count": 21,
      "metadata": {
        "id": "QunZli7KQA13"
      },
      "outputs": [],
      "source": [
        "import matplotlib.pyplot as plt\n",
        "from tensorflow.keras.datasets import fashion_mnist\n",
        "\n",
        "(train_images, train_labels), (test_images, test_labels) = fashion_mnist.load_data()"
      ]
    },
    {
      "cell_type": "code",
      "source": [
        "train_images = train_images.reshape((60000,28*28))\n",
        "train_images = train_images.astype(\"float32\") / 255\n",
        "\n",
        "test_images = test_images.reshape((10000,28*28))\n",
        "test_images = test_images.astype(\"float32\") / 255"
      ],
      "metadata": {
        "id": "pxNV0qenSZLa"
      },
      "execution_count": 22,
      "outputs": []
    },
    {
      "cell_type": "code",
      "source": [
        "from tensorflow.keras.models import load_model"
      ],
      "metadata": {
        "id": "kbTH33PISz3L"
      },
      "execution_count": 23,
      "outputs": []
    },
    {
      "cell_type": "code",
      "source": [
        "pretrained_model = load_model('model_Tia_Agustiani.h5')"
      ],
      "metadata": {
        "id": "CimmG_R6TAiD"
      },
      "execution_count": 24,
      "outputs": []
    },
    {
      "cell_type": "code",
      "source": [
        "import numpy as np"
      ],
      "metadata": {
        "id": "hXad48IwTkyU"
      },
      "execution_count": 25,
      "outputs": []
    },
    {
      "cell_type": "code",
      "source": [
        "prediksi = pretrained_model(test_images)\n",
        "prediksi = prediksi.numpy() # =>supaya hasilnya array\n",
        "prediksi_label = np.argmax(prediksi,axis=1)\n",
        "prediksi_betul = prediksi_label == test_labels\n",
        "print(f\"Akurasi hasil data test :{prediksi_betul.mean():.2f}\")"
      ],
      "metadata": {
        "colab": {
          "base_uri": "https://localhost:8080/"
        },
        "id": "X3Fcy1NYTT4W",
        "outputId": "0fbb8eda-61b3-406b-a608-070a76caf915"
      },
      "execution_count": 26,
      "outputs": [
        {
          "output_type": "stream",
          "name": "stdout",
          "text": [
            "Akurasi hasil data test :0.87\n"
          ]
        }
      ]
    },
    {
      "cell_type": "markdown",
      "source": [
        "##**Underfitting**"
      ],
      "metadata": {
        "id": "003UYiT8UotF"
      }
    },
    {
      "cell_type": "markdown",
      "source": [
        "**Definisi** : situasi dimana model tidak dapat menangkap pola yang cukup dalam proses training. <br>\n",
        "\n",
        "**Penyebabnya:**\n",
        "1. Modedelnya terlalu sederhana\n",
        "2. Data traning terbatas\n",
        "3. Proses Training tidak cukup\n",
        "4. Parameter training tidak sesuai\n",
        "\n",
        "**Cara mengatasi:**\n",
        "1. Meningkatkan kompleksitas model\n",
        "2. Datanya lebih banyak dan representatif\n",
        "3. Menyesuaikan paramter\n"
      ],
      "metadata": {
        "id": "EauFMOyPXTUu"
      }
    },
    {
      "cell_type": "code",
      "source": [
        "#Arsitektur Modelnya\n",
        "\n",
        "import tensorflow as tf\n",
        "import numpy as np\n",
        "\n",
        "model_kedua = tf.keras.Sequential([\n",
        "    tf.keras.layers.Dense(10, activation = 'relu'),\n",
        "])"
      ],
      "metadata": {
        "id": "9J1JDnxiY6Sx"
      },
      "execution_count": 27,
      "outputs": []
    },
    {
      "cell_type": "code",
      "source": [
        "model_kedua.compile(optimizer ='rmsprop', loss='sparse_categorical_crossentropy', metrics=['accuracy'])"
      ],
      "metadata": {
        "id": "Pc11pjsgZNC5"
      },
      "execution_count": 28,
      "outputs": []
    },
    {
      "cell_type": "code",
      "source": [
        "model_kedua.fit(train_images,train_labels, epochs=2, batch_size=126)"
      ],
      "metadata": {
        "colab": {
          "base_uri": "https://localhost:8080/"
        },
        "id": "JPuvC2U3ZSec",
        "outputId": "b908fb8d-1271-40a4-d3fb-54042fc9d4a1"
      },
      "execution_count": 29,
      "outputs": [
        {
          "output_type": "stream",
          "name": "stdout",
          "text": [
            "Epoch 1/2\n",
            "477/477 [==============================] - 3s 4ms/step - loss: 2.2978 - accuracy: 0.1769\n",
            "Epoch 2/2\n",
            "477/477 [==============================] - 2s 4ms/step - loss: 2.1766 - accuracy: 0.1572\n"
          ]
        },
        {
          "output_type": "execute_result",
          "data": {
            "text/plain": [
              "<keras.src.callbacks.History at 0x7c1f5d80aec0>"
            ]
          },
          "metadata": {},
          "execution_count": 29
        }
      ]
    },
    {
      "cell_type": "markdown",
      "source": [
        "##**Learning Rate**"
      ],
      "metadata": {
        "id": "O0wbPRcCZp11"
      }
    },
    {
      "cell_type": "markdown",
      "source": [
        "Merupakan parameter terpenting dalam proses training. Learning rate merupakan nilai yang  menentukan seberapa besar penyesuaian yang dilakukan pada bobot (weight) model pada setiap proses training."
      ],
      "metadata": {
        "id": "sau3rvpjZzIs"
      }
    },
    {
      "cell_type": "markdown",
      "source": [
        "Learning rate mengontrol seberapa ceat atau lambat model untuk belajar.<br>\n",
        "Jika nilai learning rate **tinggi**, dapat menyebabkan model cepat belajar, tapi beresiko melewatkan kesalahan. <br>\n",
        "Jika learning ratenya **kecil/ rendah**, maka model akan belajar lebih hati-hati, tetapi proses pembelajaran menjadi lebih lambat."
      ],
      "metadata": {
        "id": "93sNGExTaVs1"
      }
    },
    {
      "cell_type": "code",
      "source": [
        "#Arsitektur Modelnya\n",
        "\n",
        "import tensorflow as tf\n",
        "import numpy as np\n",
        "\n",
        "model_kedua = tf.keras.Sequential([\n",
        "    tf.keras.layers.Dense(512, activation = 'relu'),\n",
        "    tf.keras.layers.Dropout(0,5),\n",
        "    tf.keras.layers.Dense(256, activation = 'relu'),\n",
        "    tf.keras.layers.Dropout(0,5),\n",
        "    tf.keras.layers.Dense(128, activation = 'relu'),\n",
        "    tf.keras.layers.Dense(64, activation = 'relu'),\n",
        "    tf.keras.layers.Dense(32, activation = 'relu'),\n",
        "    tf.keras.layers.Dense(10, activation = 'sigmoid')\n",
        "])"
      ],
      "metadata": {
        "id": "-Mm9u2z3bJy0"
      },
      "execution_count": 30,
      "outputs": []
    },
    {
      "cell_type": "code",
      "source": [
        "learning_rate1 = 0.001"
      ],
      "metadata": {
        "id": "bRusPX5hbgWz"
      },
      "execution_count": 31,
      "outputs": []
    },
    {
      "cell_type": "code",
      "source": [
        "model_kedua.compile(optimizer =tf.keras.optimizers.RMSprop(learning_rate = learning_rate1), loss='sparse_categorical_crossentropy', metrics=['accuracy'])"
      ],
      "metadata": {
        "id": "ETNa0IHgbdAi"
      },
      "execution_count": 32,
      "outputs": []
    },
    {
      "cell_type": "code",
      "source": [
        "model_kedua.fit(train_images,train_labels, epochs=10, batch_size=256)"
      ],
      "metadata": {
        "colab": {
          "base_uri": "https://localhost:8080/"
        },
        "id": "etAJQr_DcEH-",
        "outputId": "e1bcbe4b-ad0d-40e9-b3df-40fbffb4595f"
      },
      "execution_count": 33,
      "outputs": [
        {
          "output_type": "stream",
          "name": "stdout",
          "text": [
            "Epoch 1/10\n",
            "235/235 [==============================] - 7s 24ms/step - loss: 0.7196 - accuracy: 0.7388\n",
            "Epoch 2/10\n",
            "235/235 [==============================] - 5s 20ms/step - loss: 0.4427 - accuracy: 0.8370\n",
            "Epoch 3/10\n",
            "235/235 [==============================] - 6s 26ms/step - loss: 0.3833 - accuracy: 0.8579\n",
            "Epoch 4/10\n",
            "235/235 [==============================] - 5s 20ms/step - loss: 0.3490 - accuracy: 0.8699\n",
            "Epoch 5/10\n",
            "235/235 [==============================] - 5s 20ms/step - loss: 0.3248 - accuracy: 0.8783\n",
            "Epoch 6/10\n",
            "235/235 [==============================] - 6s 26ms/step - loss: 0.3043 - accuracy: 0.8870\n",
            "Epoch 7/10\n",
            "235/235 [==============================] - 5s 20ms/step - loss: 0.2870 - accuracy: 0.8921\n",
            "Epoch 8/10\n",
            "235/235 [==============================] - 5s 21ms/step - loss: 0.2761 - accuracy: 0.8961\n",
            "Epoch 9/10\n",
            "235/235 [==============================] - 6s 25ms/step - loss: 0.2645 - accuracy: 0.9004\n",
            "Epoch 10/10\n",
            "235/235 [==============================] - 5s 20ms/step - loss: 0.2541 - accuracy: 0.9038\n"
          ]
        },
        {
          "output_type": "execute_result",
          "data": {
            "text/plain": [
              "<keras.src.callbacks.History at 0x7c1f630b51e0>"
            ]
          },
          "metadata": {},
          "execution_count": 33
        }
      ]
    }
  ]
}